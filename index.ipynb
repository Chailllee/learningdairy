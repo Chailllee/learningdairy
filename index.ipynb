{
  "cells": [
    {
      "cell_type": "raw",
      "metadata": {},
      "source": [
        "---\n",
        "format: \n",
        "  html\n",
        "---"
      ],
      "id": "7c134dab"
    },
    {
      "cell_type": "markdown",
      "metadata": {},
      "source": [
        "# About me {.unnumbered}\n",
        "\n",
        "Tell you later :)\n",
        "\n",
        "To learn more about Quarto books visit <https://quarto.org/docs/books>.\n",
        "\n",
        "\n",
        "\n",
        "\n",
        "```{gantt}\n",
        "\n",
        "dateFormat  YYYY-MM-DD\n",
        "title Beijing Flood Control Planning  \n",
        "\n",
        "section Research Preparation Phase\n",
        "Assemble Research Team :a1, 2024-03-01, 30d\n",
        "Remote Sensing Data Collection :a2, after a1, 60d\n",
        "\n",
        "section Research & Development Phase\n",
        "Building Resilience Assessment System :a3, after a2, 90d  \n",
        "Flood Hazard Assessment System :a4, after a2, 120d\n",
        "\n",
        "section Monitoring & Prevention Phase\n",
        "Hydrological & Flood Monitoring :b1, after a3, 90d\n",
        "Warning Issuance Mechanism :b2, after b1, 60d\n",
        "Flood Control Projects :b3, after b2, 180d  \n",
        "\n",
        "section Warning Response Phase\n",
        "Graded Warning Issuance :c1, after b2, 30d\n",
        "Emergency Response Preparation :c2, after c1, 60d\n",
        "\n",
        "section Emergency Rescue Phase  \n",
        "Incident Grading :d1, after c2, 30d\n",
        "Rescue Team Deployment :d2, after d1, 60d\n",
        "Resource Allocation :d3, after d1, 90d\n",
        "\n",
        "section Information Dissemination & Social Mobilization\n",
        "Website Setup :e1, after c1, 60d\n",
        "Community Engagement :e2, after e1, 90d \n",
        "Information Release :e3, after e2, 180d\n",
        "\n",
        "section Recovery & Reconstruction Phase\n",
        "Post-disaster Relief :f1, after d3, 90d\n",
        "Infrastructure Repair :f2, after f1, 180d\n",
        "\n",
        "```"
      ],
      "id": "4dffb1f9"
    }
  ],
  "metadata": {
    "kernelspec": {
      "display_name": "Python 3",
      "language": "python",
      "name": "python3"
    }
  },
  "nbformat": 4,
  "nbformat_minor": 5
}